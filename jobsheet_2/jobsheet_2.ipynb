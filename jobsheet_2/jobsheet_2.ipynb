{
  "nbformat": 4,
  "nbformat_minor": 0,
  "metadata": {
    "colab": {
      "provenance": [],
      "authorship_tag": "ABX9TyPqfeq60XTytVsEHTkybSB7",
      "include_colab_link": true
    },
    "kernelspec": {
      "name": "python3",
      "display_name": "Python 3"
    },
    "language_info": {
      "name": "python"
    }
  },
  "cells": [
    {
      "cell_type": "markdown",
      "metadata": {
        "id": "view-in-github",
        "colab_type": "text"
      },
      "source": [
        "<a href=\"https://colab.research.google.com/github/asdddddddddd/2025_KC_TI1B/blob/main/JOBSHEET2.ipynb\" target=\"_parent\"><img src=\"https://colab.research.google.com/assets/colab-badge.svg\" alt=\"Open In Colab\"/></a>"
      ]
    },
    {
      "cell_type": "markdown",
      "source": [
        "# JOBSHEET 2 :OPERASI MATEMATIKA, VEKTOR, MATRIKS DAN TIPE DATA\n"
      ],
      "metadata": {
        "id": "sWkVojthn6bX"
      }
    },
    {
      "cell_type": "markdown",
      "source": [
        "## Latihan 02 : Operasi matematika menggunakan python"
      ],
      "metadata": {
        "id": "Dful6tSWn-AD"
      }
    },
    {
      "cell_type": "markdown",
      "source": [
        "a.\tMendapatkan nilai minimum dan maksimum"
      ],
      "metadata": {
        "id": "2BUatol5oPWK"
      }
    },
    {
      "cell_type": "code",
      "source": [
        "x = min (5, 10, 25)\n",
        "y = max (6, 12, 18)\n",
        "print(x)\n",
        "print(y)"
      ],
      "metadata": {
        "colab": {
          "base_uri": "https://localhost:8080/"
        },
        "id": "QbW2tzDAoOR7",
        "outputId": "33518220-f9a5-47ee-ae71-cc6406caf722"
      },
      "execution_count": 14,
      "outputs": [
        {
          "output_type": "stream",
          "name": "stdout",
          "text": [
            "5\n",
            "18\n"
          ]
        }
      ]
    },
    {
      "cell_type": "markdown",
      "source": [
        "b.\tMendapatkan nilai absolut"
      ],
      "metadata": {
        "id": "Da18GPsXpAHN"
      }
    },
    {
      "cell_type": "code",
      "source": [
        "x = abs (-7.25)\n",
        "print(x)"
      ],
      "metadata": {
        "colab": {
          "base_uri": "https://localhost:8080/"
        },
        "id": "3w_yy6tzpDRA",
        "outputId": "58aa2562-f1aa-4dd8-8762-d3366e6ca756"
      },
      "execution_count": 15,
      "outputs": [
        {
          "output_type": "stream",
          "name": "stdout",
          "text": [
            "7.25\n"
          ]
        }
      ]
    },
    {
      "cell_type": "markdown",
      "source": [
        "c.\tMendapatkan nilai pangkat"
      ],
      "metadata": {
        "id": "95dUi6kzpHfT"
      }
    },
    {
      "cell_type": "code",
      "source": [
        "import math\n",
        "x = math.pow (4, 3)\n",
        "print(x)"
      ],
      "metadata": {
        "colab": {
          "base_uri": "https://localhost:8080/"
        },
        "id": "BdMku3lepJoD",
        "outputId": "4c854d78-5238-4264-fe90-3c797dba719a"
      },
      "execution_count": 16,
      "outputs": [
        {
          "output_type": "stream",
          "name": "stdout",
          "text": [
            "64.0\n"
          ]
        }
      ]
    },
    {
      "cell_type": "markdown",
      "source": [
        "d.\tMendapatkan nilai akar"
      ],
      "metadata": {
        "id": "rEvLFYMJpQx1"
      }
    },
    {
      "cell_type": "code",
      "source": [
        "import math\n",
        "x = math.sqrt (64)\n",
        "print(x)"
      ],
      "metadata": {
        "colab": {
          "base_uri": "https://localhost:8080/"
        },
        "id": "AVKzTNLgpVQC",
        "outputId": "d20af8f3-bcd1-4375-9101-2207e6e8ceda"
      },
      "execution_count": 17,
      "outputs": [
        {
          "output_type": "stream",
          "name": "stdout",
          "text": [
            "8.0\n"
          ]
        }
      ]
    },
    {
      "cell_type": "markdown",
      "source": [
        "e.\tMendapatkan nilai pembulatan"
      ],
      "metadata": {
        "id": "3AdlSoFMpcl0"
      }
    },
    {
      "cell_type": "code",
      "source": [
        "import math\n",
        "x = math.ceil (1.4)\n",
        "y = math.floor (1.4)\n",
        "print(x)\n",
        "print(y)"
      ],
      "metadata": {
        "colab": {
          "base_uri": "https://localhost:8080/"
        },
        "id": "8iPOxJmJphqB",
        "outputId": "468b9052-3782-45b4-e57a-73f545f48291"
      },
      "execution_count": 18,
      "outputs": [
        {
          "output_type": "stream",
          "name": "stdout",
          "text": [
            "2\n",
            "1\n"
          ]
        }
      ]
    },
    {
      "cell_type": "markdown",
      "source": [
        "f.\tMendapatkan nilai konstanta (PI)"
      ],
      "metadata": {
        "id": "e8vLzqyFqDBM"
      }
    },
    {
      "cell_type": "code",
      "source": [
        "import math\n",
        "x = math.pi\n",
        "print(x)"
      ],
      "metadata": {
        "colab": {
          "base_uri": "https://localhost:8080/"
        },
        "id": "wxQgGCyBqDux",
        "outputId": "486efe6b-2847-43ff-a190-bab4e0615f67"
      },
      "execution_count": 19,
      "outputs": [
        {
          "output_type": "stream",
          "name": "stdout",
          "text": [
            "3.141592653589793\n"
          ]
        }
      ]
    },
    {
      "cell_type": "markdown",
      "source": [
        "# Latihan 03 : Menggunakan Fungsi MATH"
      ],
      "metadata": {
        "id": "32A1NAnIsSj3"
      }
    },
    {
      "cell_type": "code",
      "source": [
        "import math\n",
        "\n",
        "print(\"math.sin(0):\", math.sin(0))\n",
        "print(\"math.cos(0):\", math.cos(0))\n",
        "print(\"math.tan(0):\", math.tan(0))\n",
        "\n",
        "print(\"math.log(10):\", math.log(10))\n",
        "print(\"math.log10(10):\", math.log10(10))\n",
        "\n",
        "print(\"math.degrees(math.pi):\", math.degrees(math.pi))\n",
        "\n",
        "print(\"math.dist([0,0], [3,4]):\", math.dist([0, 0], [3, 4]))\n",
        "\n",
        "print(\"math.factorial(5):\", math.factorial(5))\n",
        "\n",
        "print(\"math.fmod(10, 3):\", math.fmod(10, 3))\n",
        "\n",
        "print(\"math.isnan(float('nan')):\", math.isnan(float('nan')))\n",
        "\n",
        "print(\"math.gamma(6):\", math.gamma(6))\n",
        "\n",
        "print(\"math.perm(5, 2):\", math.perm(5, 2))"
      ],
      "metadata": {
        "colab": {
          "base_uri": "https://localhost:8080/"
        },
        "id": "dw7EGlWRsgeg",
        "outputId": "d2e3df04-b056-4cab-84f2-fed261aac733"
      },
      "execution_count": 33,
      "outputs": [
        {
          "output_type": "stream",
          "name": "stdout",
          "text": [
            "math.sin(0): 0.0\n",
            "math.cos(0): 1.0\n",
            "math.tan(0): 0.0\n",
            "math.log(10): 2.302585092994046\n",
            "math.log10(10): 1.0\n",
            "math.degrees(math.pi): 180.0\n",
            "math.dist([0,0], [3,4]): 5.0\n",
            "math.factorial(5): 120\n",
            "math.fmod(10, 3): 1.0\n",
            "math.isnan(float('nan')): True\n",
            "math.gamma(6): 120.0\n",
            "math.perm(5, 2): 20\n"
          ]
        }
      ]
    },
    {
      "cell_type": "markdown",
      "source": [
        "# Latihan 04 : Operasi matriks dan vektor dengan python"
      ],
      "metadata": {
        "id": "Fd9U1ugGvp5G"
      }
    },
    {
      "cell_type": "markdown",
      "source": [
        "a.\tMembuat matriks di python"
      ],
      "metadata": {
        "id": "v2dO42EYvvjE"
      }
    },
    {
      "cell_type": "code",
      "source": [
        "import numpy as np\n",
        "A = np.array ([[80, 30, 25], [50, 20, 10]])\n",
        "B = np.array ([[30, 60, 15], [10, 30, 30]])\n",
        "\n",
        "hasil = A + B\n",
        "print(hasil)"
      ],
      "metadata": {
        "colab": {
          "base_uri": "https://localhost:8080/"
        },
        "id": "N_NFgHzFvykB",
        "outputId": "22f64a28-e05f-404a-b9a5-b7650134fd2a"
      },
      "execution_count": 34,
      "outputs": [
        {
          "output_type": "stream",
          "name": "stdout",
          "text": [
            "[[110  90  40]\n",
            " [ 60  50  40]]\n"
          ]
        }
      ]
    },
    {
      "cell_type": "markdown",
      "source": [
        "b.\tMelakukan operasi dot product"
      ],
      "metadata": {
        "id": "hlM-2SwNw_0P"
      }
    },
    {
      "cell_type": "code",
      "source": [
        "import numpy as np\n",
        "A = np.array ([10, 20, 15])\n",
        "B = np.array ([16, 67, 35])\n",
        "\n",
        "hasil = np.dot (A, B)\n",
        "print(hasil)"
      ],
      "metadata": {
        "colab": {
          "base_uri": "https://localhost:8080/"
        },
        "id": "84b1eLBgxCut",
        "outputId": "0f133c97-e582-40a6-98bd-7b9f06ea57ef"
      },
      "execution_count": 36,
      "outputs": [
        {
          "output_type": "stream",
          "name": "stdout",
          "text": [
            "2025\n"
          ]
        }
      ]
    },
    {
      "cell_type": "markdown",
      "source": [
        "c.\tMelakukan operasi cross product"
      ],
      "metadata": {
        "id": "DIEHnvkfxfhZ"
      }
    },
    {
      "cell_type": "code",
      "source": [
        "import numpy as np\n",
        "A = np.array ([10, 20, 15])\n",
        "B = np.array ([16, 67, 35])\n",
        "\n",
        "hasil = np.cross(A, B)\n",
        "print(hasil)"
      ],
      "metadata": {
        "colab": {
          "base_uri": "https://localhost:8080/"
        },
        "id": "vt5kItQzxepJ",
        "outputId": "e09279c1-5bd3-4895-8e5a-bfab4727c3a7"
      },
      "execution_count": 37,
      "outputs": [
        {
          "output_type": "stream",
          "name": "stdout",
          "text": [
            "[-305 -110  350]\n"
          ]
        }
      ]
    },
    {
      "cell_type": "markdown",
      "source": [
        "# Tugas Praktikum 01"
      ],
      "metadata": {
        "id": "1rXilyaByA_U"
      }
    },
    {
      "cell_type": "code",
      "source": [
        "import numpy as np\n",
        "\n",
        "A = np.array([[3, 1], [2, 0]])\n",
        "B = np.array([[2, 1], [1, -1]])\n",
        "C = np.array([[-1, 1, 2], [2, 0, -1]])\n",
        "\n",
        "hasil_AB = np.dot(A, B)\n",
        "print(\"a. Hasil A x B:\\n\", hasil_AB)\n",
        "\n",
        "hasil_BC = np.dot(B, C)\n",
        "print(\"b. Hasil B x C:\\n\", hasil_BC)"
      ],
      "metadata": {
        "colab": {
          "base_uri": "https://localhost:8080/"
        },
        "id": "wqKcPAHPyHpU",
        "outputId": "30ff84a9-d2da-49de-8f10-793bfd97668e"
      },
      "execution_count": 41,
      "outputs": [
        {
          "output_type": "stream",
          "name": "stdout",
          "text": [
            "a. Hasil A x B:\n",
            " [[7 2]\n",
            " [4 2]]\n",
            "b. Hasil B x C:\n",
            " [[ 0  2  3]\n",
            " [-3  1  3]]\n"
          ]
        }
      ]
    },
    {
      "cell_type": "markdown",
      "source": [
        "# Tugas Praktikum 02"
      ],
      "metadata": {
        "id": "OpGw-IHR1Xoe"
      }
    },
    {
      "cell_type": "code",
      "source": [
        "import math\n",
        "\n",
        "hasil_6_faktorial = math.factorial(6)\n",
        "print(\"a. Hasil 6! =\", hasil_6_faktorial)\n",
        "\n",
        "hasil_8_per_5 = math.factorial(8) / math.factorial(5)\n",
        "print(\"b. Hasil 8! / 5! =\", hasil_8_per_5)\n"
      ],
      "metadata": {
        "colab": {
          "base_uri": "https://localhost:8080/"
        },
        "id": "vF-HH8731bjf",
        "outputId": "66a76a92-5926-4c46-ded1-591b31836da2"
      },
      "execution_count": 43,
      "outputs": [
        {
          "output_type": "stream",
          "name": "stdout",
          "text": [
            "a. Hasil 6! = 720\n",
            "b. Hasil 8! / 5! = 336.0\n"
          ]
        }
      ]
    },
    {
      "cell_type": "markdown",
      "source": [
        "# Tugas Praktikum 03"
      ],
      "metadata": {
        "id": "dZ8qTTdO12_u"
      }
    },
    {
      "cell_type": "code",
      "source": [
        "import numpy as np\n",
        "\n",
        "A = np.array([5, 3, 7])\n",
        "B = np.array([12, -3, 1])\n",
        "\n",
        "panjang_A = np.linalg.norm(A)\n",
        "panjang_B = np.linalg.norm(B)\n",
        "\n",
        "dot_product = np.dot(A, B)\n",
        "\n",
        "cross_product = np.cross(A, B)\n",
        "\n",
        "print(\"Panjang Vektor A =\", panjang_A)\n",
        "print(\"Panjang Vektor B =\", panjang_B)\n",
        "print(\"Hasil A · B =\", dot_product)\n",
        "print(\"Hasil A × B =\", cross_product)"
      ],
      "metadata": {
        "colab": {
          "base_uri": "https://localhost:8080/"
        },
        "id": "Y8B8-y3P16EF",
        "outputId": "bb103f80-d62b-4531-8f3d-31897b3781d2"
      },
      "execution_count": 44,
      "outputs": [
        {
          "output_type": "stream",
          "name": "stdout",
          "text": [
            "Panjang Vektor A = 9.1104335791443\n",
            "Panjang Vektor B = 12.409673645990857\n",
            "Hasil A · B = 58\n",
            "Hasil A × B = [ 24  79 -51]\n"
          ]
        }
      ]
    }
  ]
}
