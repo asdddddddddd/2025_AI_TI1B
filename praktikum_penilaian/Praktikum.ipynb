{
  "nbformat": 4,
  "nbformat_minor": 0,
  "metadata": {
    "colab": {
      "provenance": [],
      "include_colab_link": true
    },
    "kernelspec": {
      "name": "python3",
      "display_name": "Python 3"
    },
    "language_info": {
      "name": "python"
    }
  },
  "cells": [
    {
      "cell_type": "markdown",
      "metadata": {
        "id": "view-in-github",
        "colab_type": "text"
      },
      "source": [
        "<a href=\"https://colab.research.google.com/github/asdddddddddd/2025_AI_TI1B/blob/main/praktikum_penilaian/Praktikum.ipynb\" target=\"_parent\"><img src=\"https://colab.research.google.com/assets/colab-badge.svg\" alt=\"Open In Colab\"/></a>"
      ]
    },
    {
      "cell_type": "markdown",
      "source": [
        "# 1. Pengolahan Data"
      ],
      "metadata": {
        "id": "wv6mFj8csKSd"
      }
    },
    {
      "cell_type": "markdown",
      "source": [
        "## Baca data dari file CSV menggunakan pandas"
      ],
      "metadata": {
        "id": "onrRzr0-sQbI"
      }
    },
    {
      "cell_type": "code",
      "source": [
        "import pandas as pd\n",
        "\n",
        "file_path = \"data_pasien.csv\"\n",
        "df = pd.read_csv(file_path)"
      ],
      "metadata": {
        "id": "hBn6N1pwsgTV"
      },
      "execution_count": 2,
      "outputs": []
    },
    {
      "cell_type": "markdown",
      "source": [
        "## Tampilkan informasi awal dataset"
      ],
      "metadata": {
        "id": "3XhZcV1XsVzx"
      }
    },
    {
      "cell_type": "code",
      "source": [
        "print(\"Jumlah Data:\", len(df))\n",
        "print(\"\\nNama Kolom:\")\n",
        "print(df.columns.tolist())\n",
        "print(\"\\nTipe Data Tiap Kolom:\")\n",
        "print(df.dtypes)"
      ],
      "metadata": {
        "colab": {
          "base_uri": "https://localhost:8080/"
        },
        "id": "1HGiOZcNtAPY",
        "outputId": "ab14fe22-6bb6-41bc-f1e6-228e91833e3c"
      },
      "execution_count": 3,
      "outputs": [
        {
          "output_type": "stream",
          "name": "stdout",
          "text": [
            "Jumlah Data: 10\n",
            "\n",
            "Nama Kolom:\n",
            "['ID', 'Usia', 'IMT', 'TekananDarah', 'Merokok', 'Olahraga', 'Penyakit']\n",
            "\n",
            "Tipe Data Tiap Kolom:\n",
            "ID                int64\n",
            "Usia              int64\n",
            "IMT             float64\n",
            "TekananDarah      int64\n",
            "Merokok          object\n",
            "Olahraga         object\n",
            "Penyakit         object\n",
            "dtype: object\n"
          ]
        }
      ]
    },
    {
      "cell_type": "markdown",
      "source": [
        "## Tampilkan 5 data akhir"
      ],
      "metadata": {
        "id": "gTnnMZgksYKT"
      }
    },
    {
      "cell_type": "code",
      "source": [
        "print(\"\\nLima Data Terakhir:\")\n",
        "print(df.tail())"
      ],
      "metadata": {
        "colab": {
          "base_uri": "https://localhost:8080/"
        },
        "id": "dtlnOARFtIYW",
        "outputId": "54e83e0b-b8fa-49cd-9db2-5ae595aeffd4"
      },
      "execution_count": 4,
      "outputs": [
        {
          "output_type": "stream",
          "name": "stdout",
          "text": [
            "\n",
            "Lima Data Terakhir:\n",
            "   ID  Usia   IMT  TekananDarah Merokok Olahraga Penyakit\n",
            "5   6    33  26.2           130   Tidak       Ya    Tidak\n",
            "6   7    55  28.9           145      Ya    Tidak       Ya\n",
            "7   8    22  21.7           110   Tidak       Ya    Tidak\n",
            "8   9    45  29.4           155      Ya    Tidak       Ya\n",
            "9  10    31  25.6           135   Tidak       Ya    Tidak\n"
          ]
        }
      ]
    },
    {
      "cell_type": "markdown",
      "source": [
        "# 2. Pembersihan data"
      ],
      "metadata": {
        "id": "ZNAu33SqtSio"
      }
    },
    {
      "cell_type": "markdown",
      "source": [
        "## Periksa apakah ada missing value"
      ],
      "metadata": {
        "id": "ziU6buwDtWxf"
      }
    },
    {
      "cell_type": "code",
      "source": [
        "print(\"Jumlah Missing Value per Kolom:\")\n",
        "print(df.isnull().sum())"
      ],
      "metadata": {
        "colab": {
          "base_uri": "https://localhost:8080/"
        },
        "id": "ibqhwpUAtiZp",
        "outputId": "7f3c4047-da2d-4dd6-9c05-a48347dc5023"
      },
      "execution_count": 5,
      "outputs": [
        {
          "output_type": "stream",
          "name": "stdout",
          "text": [
            "Jumlah Missing Value per Kolom:\n",
            "ID              0\n",
            "Usia            0\n",
            "IMT             0\n",
            "TekananDarah    0\n",
            "Merokok         0\n",
            "Olahraga        0\n",
            "Penyakit        0\n",
            "dtype: int64\n"
          ]
        }
      ]
    },
    {
      "cell_type": "markdown",
      "source": [
        "## Tangani data yang hilang / missing value (jika ada) dengan pendekatan yang tepat"
      ],
      "metadata": {
        "id": "GW-ch6PgtZ0R"
      }
    },
    {
      "cell_type": "code",
      "source": [
        "df_cleaned = df.copy()\n",
        "df_cleaned.dropna(inplace=True)"
      ],
      "metadata": {
        "id": "WY1aoTOj-nXy"
      },
      "execution_count": 6,
      "outputs": []
    },
    {
      "cell_type": "markdown",
      "source": [
        "## Ubah data kategorik (Ya/Tidak) menjadi numerik (1/0)"
      ],
      "metadata": {
        "id": "iG6EUqSntdv-"
      }
    },
    {
      "cell_type": "code",
      "source": [
        "df_cleaned.replace({'Ya': 1, 'Tidak': 0}, inplace=True)\n",
        "\n",
        "print(\"Data Setelah Kategorik Diubah Menjadi Numerik:\")\n",
        "print(df_cleaned.head())"
      ],
      "metadata": {
        "colab": {
          "base_uri": "https://localhost:8080/"
        },
        "id": "5CAs9HHYuF1o",
        "outputId": "647569f8-daea-4ca8-95de-d503420a5caf"
      },
      "execution_count": 7,
      "outputs": [
        {
          "output_type": "stream",
          "name": "stdout",
          "text": [
            "Data Setelah Kategorik Diubah Menjadi Numerik:\n",
            "   ID  Usia   IMT  TekananDarah  Merokok  Olahraga  Penyakit\n",
            "0   1    25  22.5           120        0         1         0\n",
            "1   2    50  30.1           150        1         0         1\n",
            "2   3    37  27.3           140        0         0         1\n",
            "3   4    29  23.8           118        0         1         0\n",
            "4   5    41  31.5           160        1         0         1\n"
          ]
        },
        {
          "output_type": "stream",
          "name": "stderr",
          "text": [
            "/tmp/ipython-input-7-1957563986.py:1: FutureWarning: Downcasting behavior in `replace` is deprecated and will be removed in a future version. To retain the old behavior, explicitly call `result.infer_objects(copy=False)`. To opt-in to the future behavior, set `pd.set_option('future.no_silent_downcasting', True)`\n",
            "  df_cleaned.replace({'Ya': 1, 'Tidak': 0}, inplace=True)\n"
          ]
        }
      ]
    },
    {
      "cell_type": "markdown",
      "source": [
        "# 3. Pemrosesan Data"
      ],
      "metadata": {
        "id": "NRotdgWDuW0c"
      }
    },
    {
      "cell_type": "markdown",
      "source": [
        "## Pisahkan data fitur dan label"
      ],
      "metadata": {
        "id": "OdGDLPgSuaox"
      }
    },
    {
      "cell_type": "code",
      "source": [
        "X = df_cleaned.drop(['ID', 'Penyakit'], axis=1)\n",
        "y = df_cleaned['Penyakit']"
      ],
      "metadata": {
        "id": "JLyfpjHnulBk"
      },
      "execution_count": 8,
      "outputs": []
    },
    {
      "cell_type": "markdown",
      "source": [
        "## Lakukan pembagian data latih dan uji (90:10)"
      ],
      "metadata": {
        "id": "o65mzip3udme"
      }
    },
    {
      "cell_type": "code",
      "source": [
        "from sklearn.model_selection import train_test_split\n",
        "\n",
        "X_train, X_test, y_train, y_test = train_test_split(\n",
        "    X, y, test_size=0.1, random_state=42\n",
        ")"
      ],
      "metadata": {
        "id": "kxrZA2-8unce"
      },
      "execution_count": 9,
      "outputs": []
    },
    {
      "cell_type": "markdown",
      "source": [
        "## Normalisasi data numerik jika diperlukan"
      ],
      "metadata": {
        "id": "kikOSjtduhAo"
      }
    },
    {
      "cell_type": "code",
      "source": [
        "from sklearn.preprocessing import MinMaxScaler\n",
        "\n",
        "scaler = MinMaxScaler()\n",
        "X_train_scaled = scaler.fit_transform(X_train)\n",
        "X_test_scaled = scaler.transform(X_test)"
      ],
      "metadata": {
        "id": "TECcOyEIuqhB"
      },
      "execution_count": 10,
      "outputs": []
    },
    {
      "cell_type": "markdown",
      "source": [
        "# 4. Klasifikasi"
      ],
      "metadata": {
        "id": "SdprXvqVuuEj"
      }
    },
    {
      "cell_type": "markdown",
      "source": [
        "## Gunakan algoritma Decision Tree"
      ],
      "metadata": {
        "id": "GrvvOdNCu06B"
      }
    },
    {
      "cell_type": "markdown",
      "source": [
        "Evaluasi Model"
      ],
      "metadata": {
        "id": "KN1-wwuxB1Hn"
      }
    },
    {
      "cell_type": "code",
      "source": [
        "from sklearn.tree import DecisionTreeClassifier\n",
        "from sklearn.metrics import accuracy_score, classification_report, confusion_matrix\n",
        "\n",
        "clf = DecisionTreeClassifier(random_state=42)\n",
        "clf.fit(X_train_scaled, y_train)\n",
        "\n",
        "y_pred = clf.predict(X_test_scaled)\n",
        "\n",
        "print(\"Akurasi Model:\", accuracy_score(y_test, y_pred))\n",
        "print(\"\\nLaporan Klasifikasi:\\n\", classification_report(y_test, y_pred))\n",
        "print(\"\\nMatriks Kebingungan:\\n\", confusion_matrix(y_test, y_pred))\n"
      ],
      "metadata": {
        "colab": {
          "base_uri": "https://localhost:8080/"
        },
        "id": "PtSTd4mc_far",
        "outputId": "2348eb73-62bd-40f9-835a-623f4cd991bb"
      },
      "execution_count": 11,
      "outputs": [
        {
          "output_type": "stream",
          "name": "stdout",
          "text": [
            "Akurasi Model: 1.0\n",
            "\n",
            "Laporan Klasifikasi:\n",
            "               precision    recall  f1-score   support\n",
            "\n",
            "           1       1.00      1.00      1.00         1\n",
            "\n",
            "    accuracy                           1.00         1\n",
            "   macro avg       1.00      1.00      1.00         1\n",
            "weighted avg       1.00      1.00      1.00         1\n",
            "\n",
            "\n",
            "Matriks Kebingungan:\n",
            " [[1]]\n"
          ]
        },
        {
          "output_type": "stream",
          "name": "stderr",
          "text": [
            "/usr/local/lib/python3.11/dist-packages/sklearn/metrics/_classification.py:407: UserWarning: A single label was found in 'y_true' and 'y_pred'. For the confusion matrix to have the correct shape, use the 'labels' parameter to pass all known labels.\n",
            "  warnings.warn(\n"
          ]
        }
      ]
    }
  ]
}