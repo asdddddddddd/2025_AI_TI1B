{
  "nbformat": 4,
  "nbformat_minor": 0,
  "metadata": {
    "colab": {
      "provenance": [],
      "authorship_tag": "ABX9TyPwqZWicHhvjlsPfn8vY+/e",
      "include_colab_link": true
    },
    "kernelspec": {
      "name": "python3",
      "display_name": "Python 3"
    },
    "language_info": {
      "name": "python"
    }
  },
  "cells": [
    {
      "cell_type": "markdown",
      "metadata": {
        "id": "view-in-github",
        "colab_type": "text"
      },
      "source": [
        "<a href=\"https://colab.research.google.com/github/asdddddddddd/2025_KC_TI1B/blob/main/JOBSHEET_3.ipynb\" target=\"_parent\"><img src=\"https://colab.research.google.com/assets/colab-badge.svg\" alt=\"Open In Colab\"/></a>"
      ]
    },
    {
      "cell_type": "markdown",
      "source": [
        "# JOBSHEET 3: PENGUKURAN STATISTIK DESKRIPTIF"
      ],
      "metadata": {
        "id": "7do9vCe6dPrA"
      }
    },
    {
      "cell_type": "markdown",
      "source": [
        "## LATIHAN: Central Tendency"
      ],
      "metadata": {
        "id": "oLGE5jWQdZjT"
      }
    },
    {
      "cell_type": "markdown",
      "source": [
        "### a. Mean"
      ],
      "metadata": {
        "id": "gxcha1uzegB9"
      }
    },
    {
      "cell_type": "code",
      "execution_count": 1,
      "metadata": {
        "colab": {
          "base_uri": "https://localhost:8080/"
        },
        "id": "9AzutUXSdMHB",
        "outputId": "eb6f3e74-7867-4e4e-beeb-1cf180ec37e6"
      },
      "outputs": [
        {
          "output_type": "stream",
          "name": "stdout",
          "text": [
            "Mean (Rata-rata) dari data adalah: 82.11111111111111\n"
          ]
        }
      ],
      "source": [
        "import numpy as np\n",
        "\n",
        "score = [90, 80, 70, 65, 110, 80, 83, 67, 94]\n",
        "\n",
        "x = np.mean(score)\n",
        "\n",
        "print(\"Mean (Rata-rata) dari data adalah:\", x)"
      ]
    },
    {
      "cell_type": "markdown",
      "source": [],
      "metadata": {
        "id": "wMm9lXU4eiEt"
      }
    },
    {
      "cell_type": "markdown",
      "source": [
        "### b. Median"
      ],
      "metadata": {
        "id": "QQOFKAGrekyI"
      }
    },
    {
      "cell_type": "code",
      "source": [
        "import numpy as np\n",
        "\n",
        "score = [90, 80, 70, 65, 110, 80, 83, 67, 94]\n",
        "\n",
        "x = np.median(score)\n",
        "\n",
        "print(\"Median dari data adalah:\", x)"
      ],
      "metadata": {
        "colab": {
          "base_uri": "https://localhost:8080/"
        },
        "id": "pJQFqXMTeE-s",
        "outputId": "0f8ac98d-44e0-45e1-b2ce-a6369604c775"
      },
      "execution_count": 2,
      "outputs": [
        {
          "output_type": "stream",
          "name": "stdout",
          "text": [
            "Median dari data adalah: 80.0\n"
          ]
        }
      ]
    },
    {
      "cell_type": "markdown",
      "source": [
        "### c. Modus"
      ],
      "metadata": {
        "id": "Qt0EHgXbensm"
      }
    },
    {
      "cell_type": "code",
      "source": [
        "from scipy import stats\n",
        "\n",
        "score = [90, 80, 70, 65, 110, 80, 83, 67, 94]\n",
        "\n",
        "x = stats.mode(score, keepdims=True)\n",
        "\n",
        "print(\"Modus dari data adalah:\", x.mode[0], \"dengan frekuensi:\", x.count[0])"
      ],
      "metadata": {
        "colab": {
          "base_uri": "https://localhost:8080/"
        },
        "id": "0pT_wWp7eUtv",
        "outputId": "1889cdfb-2621-4dd2-8a79-8fadee92ffce"
      },
      "execution_count": 3,
      "outputs": [
        {
          "output_type": "stream",
          "name": "stdout",
          "text": [
            "Modus dari data adalah: 80 dengan frekuensi: 2\n"
          ]
        }
      ]
    },
    {
      "cell_type": "markdown",
      "source": [
        "## LATIHAN 2: Spread"
      ],
      "metadata": {
        "id": "3gBg7G2MeY7A"
      }
    },
    {
      "cell_type": "markdown",
      "source": [
        "### a. Range"
      ],
      "metadata": {
        "id": "EcqmLPsuerey"
      }
    },
    {
      "cell_type": "code",
      "source": [
        "import numpy as np\n",
        "\n",
        "data = [2, 3, 7, 8, 9, 12, 15, 20, 50, 42]\n",
        "\n",
        "minimum = np.min(data)\n",
        "maximum = np.max(data)\n",
        "x = maximum - minimum\n",
        "\n",
        "print(\"Range dari data adalah:\", x)"
      ],
      "metadata": {
        "colab": {
          "base_uri": "https://localhost:8080/"
        },
        "id": "zWKsEHl_eqzU",
        "outputId": "348a4c1c-c12c-4ada-e1ef-34561b529c4f"
      },
      "execution_count": 4,
      "outputs": [
        {
          "output_type": "stream",
          "name": "stdout",
          "text": [
            "Range dari data adalah: 48\n"
          ]
        }
      ]
    },
    {
      "cell_type": "markdown",
      "source": [
        "### b. Percentile"
      ],
      "metadata": {
        "id": "Xwe6T2BYe4nr"
      }
    },
    {
      "cell_type": "code",
      "source": [
        "import numpy as np\n",
        "\n",
        "data = [90, 80, 70, 65, 110, 80, 83, 67, 94]\n",
        "\n",
        "x = np.percentile(data, 90)\n",
        "\n",
        "print(\"Percentile ke-90 dari data adalah:\", x)"
      ],
      "metadata": {
        "colab": {
          "base_uri": "https://localhost:8080/"
        },
        "id": "jLZgvWfbe-Ae",
        "outputId": "4059117d-b534-4f0a-f335-3e4a79726d8a"
      },
      "execution_count": 5,
      "outputs": [
        {
          "output_type": "stream",
          "name": "stdout",
          "text": [
            "Percentile ke-90 dari data adalah: 97.2\n"
          ]
        }
      ]
    },
    {
      "cell_type": "markdown",
      "source": [
        "### c. Quartile dan Interquartile Range"
      ],
      "metadata": {
        "id": "gVhP2WpYfGLH"
      }
    },
    {
      "cell_type": "code",
      "source": [
        "import numpy as np\n",
        "\n",
        "data = [3, 4, 4, 5, 5, 6, 6, 7, 8, 8, 9, 10]\n",
        "\n",
        "Q1 = np.median(data[:int(len(data)/2)])\n",
        "Q3 = np.median(data[int(len(data)/2):])\n",
        "IQR = Q3 - Q1\n",
        "\n",
        "print(\"Q1:\", Q1)\n",
        "print(\"Q3:\", Q3)\n",
        "print(\"IQR (Interquartile Range):\", IQR)"
      ],
      "metadata": {
        "colab": {
          "base_uri": "https://localhost:8080/"
        },
        "id": "BEdB0frdfKZ9",
        "outputId": "12dfc887-d75d-4a58-ccb2-fd170c6ff1b9"
      },
      "execution_count": 6,
      "outputs": [
        {
          "output_type": "stream",
          "name": "stdout",
          "text": [
            "Q1: 4.5\n",
            "Q3: 8.0\n",
            "IQR (Interquartile Range): 3.5\n"
          ]
        }
      ]
    },
    {
      "cell_type": "markdown",
      "source": [
        "### d. Variance dan Standart Deviation"
      ],
      "metadata": {
        "id": "zt8tzGzXfPWn"
      }
    },
    {
      "cell_type": "code",
      "source": [
        "import numpy as np\n",
        "\n",
        "data = [86, 87, 88, 86, 87, 85, 86]\n",
        "\n",
        "mean = np.mean(data)\n",
        "var = np.var(data)\n",
        "std = np.std(data)\n",
        "\n",
        "print(\"Mean:\", mean)\n",
        "print(\"Variance:\", var)\n",
        "print(\"Standard Deviation:\", std)"
      ],
      "metadata": {
        "colab": {
          "base_uri": "https://localhost:8080/"
        },
        "id": "JPy2UWIFfTu1",
        "outputId": "2cae942f-7930-428b-f6c6-75867aa6cbd7"
      },
      "execution_count": 7,
      "outputs": [
        {
          "output_type": "stream",
          "name": "stdout",
          "text": [
            "Mean: 86.42857142857143\n",
            "Variance: 0.8163265306122449\n",
            "Standard Deviation: 0.9035079029052513\n"
          ]
        }
      ]
    },
    {
      "cell_type": "markdown",
      "source": [
        "## Tugas Praktikum"
      ],
      "metadata": {
        "id": "DkNJKA4dftQc"
      }
    },
    {
      "cell_type": "markdown",
      "source": [
        "### 1. Mencari Modus"
      ],
      "metadata": {
        "id": "-DiwHFnqf2y1"
      }
    },
    {
      "cell_type": "code",
      "source": [
        "from scipy import stats\n",
        "\n",
        "data = [1, 2, 3, 4, 5, 5, 6, 2, 3, 4, 5, 6, 6, 4, 3, 2, 1, 4, 3, 5, 6, 6, 5, 4, 5]\n",
        "\n",
        "mode = stats.mode(data, keepdims=True)\n",
        "print(\"Modus:\", mode.mode[0], \"dengan frekuensi:\", mode.count[0])"
      ],
      "metadata": {
        "colab": {
          "base_uri": "https://localhost:8080/"
        },
        "id": "YhOPkEQkfx0W",
        "outputId": "e739634f-f95f-4641-a518-7a4762400deb"
      },
      "execution_count": 8,
      "outputs": [
        {
          "output_type": "stream",
          "name": "stdout",
          "text": [
            "Modus: 5 dengan frekuensi: 6\n"
          ]
        }
      ]
    },
    {
      "cell_type": "markdown",
      "source": [
        "### 2. Menemukan Percentile"
      ],
      "metadata": {
        "id": "J8rYgJMJfysF"
      }
    },
    {
      "cell_type": "code",
      "source": [
        "import numpy as np\n",
        "\n",
        "data = [9, 10, 11, 6, 8, 7, 7, 5, 4, 5]\n",
        "\n",
        "p25 = np.percentile(data, 25)\n",
        "p75 = np.percentile(data, 75)\n",
        "\n",
        "print(\"Persentil ke-25:\", p25)\n",
        "print(\"Persentil ke-75:\", p75)"
      ],
      "metadata": {
        "colab": {
          "base_uri": "https://localhost:8080/"
        },
        "id": "dWzyWanhgHTE",
        "outputId": "06170edd-a33b-451e-a57b-7c6258c9787e"
      },
      "execution_count": 9,
      "outputs": [
        {
          "output_type": "stream",
          "name": "stdout",
          "text": [
            "Persentil ke-25: 5.25\n",
            "Persentil ke-75: 8.75\n"
          ]
        }
      ]
    },
    {
      "cell_type": "markdown",
      "source": [
        "### 3. Mengidentifikasi data nilai ujian"
      ],
      "metadata": {
        "id": "IRzmFixagPc9"
      }
    },
    {
      "cell_type": "markdown",
      "source": [
        "#### a.\tMengurutkan data dari yang terkecil sampai data yang terbesar"
      ],
      "metadata": {
        "id": "5pph29tMgpz8"
      }
    },
    {
      "cell_type": "code",
      "source": [
        "data = [50, 54, 62, 50, 52, 59, 61, 63, 65, 10, 53, 63, 65, 50, 59, 62, 50, 51, 57, 60, 63, 65, 65, 53, 99]\n",
        "sorted_data = sorted(data)\n",
        "print(\"Data terurut:\", sorted_data)"
      ],
      "metadata": {
        "colab": {
          "base_uri": "https://localhost:8080/"
        },
        "id": "Tu7Waoi4g4hU",
        "outputId": "f2824344-8e87-4b4d-efc8-36cb81202626"
      },
      "execution_count": 10,
      "outputs": [
        {
          "output_type": "stream",
          "name": "stdout",
          "text": [
            "Data terurut: [10, 50, 50, 50, 50, 51, 52, 53, 53, 54, 57, 59, 59, 60, 61, 62, 62, 63, 63, 63, 65, 65, 65, 65, 99]\n"
          ]
        }
      ]
    },
    {
      "cell_type": "markdown",
      "source": [
        "#### b.\tIdentifikasi nilai first quartile (Q1) dan third quartile (Q3), dan IQR"
      ],
      "metadata": {
        "id": "qvrn5svKg_IT"
      }
    },
    {
      "cell_type": "code",
      "source": [
        "data = [50, 54, 62, 50, 52, 59, 61, 63, 65, 10, 53, 63, 65, 50, 59, 62, 50, 51, 57, 60, 63, 65, 65, 53, 99]\n",
        "Q1 = np.percentile(sorted_data, 25)\n",
        "Q3 = np.percentile(sorted_data, 75)\n",
        "IQR = Q3 - Q1\n",
        "\n",
        "print(\"Q1:\", Q1)\n",
        "print(\"Q3:\", Q3)\n",
        "print(\"IQR:\", IQR)"
      ],
      "metadata": {
        "colab": {
          "base_uri": "https://localhost:8080/"
        },
        "id": "6uLRUem1hCGX",
        "outputId": "961dc194-da96-49e4-92b0-fb93123079c5"
      },
      "execution_count": 19,
      "outputs": [
        {
          "output_type": "stream",
          "name": "stdout",
          "text": [
            "Q1: 52.0\n",
            "Q3: 63.0\n",
            "IQR: 11.0\n"
          ]
        }
      ]
    },
    {
      "cell_type": "markdown",
      "source": [
        "#### c. Menentukan nilai upper bound dan lower bound"
      ],
      "metadata": {
        "id": "x1Fmoh4YhrNH"
      }
    },
    {
      "cell_type": "code",
      "source": [
        "data = [50, 54, 62, 50, 52, 59, 61, 63, 65, 10, 53, 63, 65, 50, 59, 62, 50, 51, 57, 60, 63, 65, 65, 53, 99]\n",
        "lower_bound = Q1 - 1.5 * IQR\n",
        "upper_bound = Q3 + 1.5 * IQR\n",
        "\n",
        "print(\"Lower Bound:\", lower_bound)\n",
        "print(\"Upper Bound:\", upper_bound)"
      ],
      "metadata": {
        "colab": {
          "base_uri": "https://localhost:8080/"
        },
        "id": "4DmPlOFWhKFk",
        "outputId": "cf2f4f7e-8c01-43c4-b00f-be4cd9148c8d"
      },
      "execution_count": 18,
      "outputs": [
        {
          "output_type": "stream",
          "name": "stdout",
          "text": [
            "Lower Bound: 35.5\n",
            "Upper Bound: 79.5\n"
          ]
        }
      ]
    },
    {
      "cell_type": "markdown",
      "source": [
        "#### d.\tMenentukan nilai ujian yang menjadi outlier"
      ],
      "metadata": {
        "id": "ggBU46v5iNlk"
      }
    },
    {
      "cell_type": "code",
      "source": [
        "data = [50, 54, 62, 50, 52, 59, 61, 63, 65, 10, 53, 63, 65, 50, 59, 62, 50, 51, 57, 60, 63, 65, 65, 53, 99]\n",
        "outliers = [x for x in data if x < lower_bound or x > upper_bound]\n",
        "print(\"Outlier(s):\", outliers)"
      ],
      "metadata": {
        "colab": {
          "base_uri": "https://localhost:8080/"
        },
        "id": "grkqGZ89iTkJ",
        "outputId": "64064007-86e6-4d87-8e2c-32ce40a5fa24"
      },
      "execution_count": 17,
      "outputs": [
        {
          "output_type": "stream",
          "name": "stdout",
          "text": [
            "Outlier(s): [10, 99]\n"
          ]
        }
      ]
    },
    {
      "cell_type": "markdown",
      "source": [
        "### 4. Menghitung standart deviasi dari data berat badan mahasiswa informatika"
      ],
      "metadata": {
        "id": "Y37F2b5UiYRP"
      }
    },
    {
      "cell_type": "code",
      "source": [
        "import numpy as np\n",
        "\n",
        "midpoints = [43, 48, 52.5, 58, 63, 68]\n",
        "frequencies = [2, 3, 6, 4, 5, 2]\n",
        "\n",
        "total_freq = sum(frequencies)\n",
        "mean = sum([f * x for f, x in zip(frequencies, midpoints)]) / total_freq\n",
        "\n",
        "variance = sum([f * ((x - mean) ** 2) for f, x in zip(frequencies, midpoints)]) / total_freq\n",
        "std_deviation = np.sqrt(variance)\n",
        "\n",
        "print(\"Mean:\", mean)\n",
        "print(\"Standar Deviasi:\", std_deviation)"
      ],
      "metadata": {
        "colab": {
          "base_uri": "https://localhost:8080/"
        },
        "id": "KHkWJSknjg7S",
        "outputId": "d6d6d542-1504-49ad-99c4-d6ec42d4ab40"
      },
      "execution_count": 20,
      "outputs": [
        {
          "output_type": "stream",
          "name": "stdout",
          "text": [
            "Mean: 55.81818181818182\n",
            "Standar Deviasi: 7.235558429390503\n"
          ]
        }
      ]
    }
  ]
}